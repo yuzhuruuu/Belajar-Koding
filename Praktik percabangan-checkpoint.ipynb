{
 "cells": [
  {
   "cell_type": "code",
   "execution_count": 1,
   "id": "701bf269-18fe-4145-b65a-48a1de2fbd81",
   "metadata": {},
   "outputs": [
    {
     "name": "stdout",
     "output_type": "stream",
     "text": [
      "hello word\n"
     ]
    }
   ],
   "source": [
    "print (\"hello word\")"
   ]
  },
  {
   "cell_type": "code",
   "execution_count": 2,
   "id": "1100b62b-259c-42b7-b3be-d9a103d86e27",
   "metadata": {},
   "outputs": [
    {
     "name": "stdout",
     "output_type": "stream",
     "text": [
      "selamat datang di  python\n"
     ]
    }
   ],
   "source": [
    "print (\"selamat datang di  python\")"
   ]
  },
  {
   "cell_type": "code",
   "execution_count": 3,
   "id": "e5c37ec8-4f34-4ec2-9c47-2eddf44361af",
   "metadata": {},
   "outputs": [
    {
     "name": "stdout",
     "output_type": "stream",
     "text": [
      "30\n"
     ]
    }
   ],
   "source": [
    "print (30)"
   ]
  },
  {
   "cell_type": "code",
   "execution_count": 12,
   "id": "ff86572b-e4a2-4665-8d68-20e7ae13bcee",
   "metadata": {},
   "outputs": [
    {
     "name": "stdout",
     "output_type": "stream",
     "text": [
      "nama say: Yusri\n",
      "umur: 18\n",
      "tinggi: 152\n"
     ]
    }
   ],
   "source": [
    "nama = \"Yusri\"\n",
    "umur = 18\n",
    "tinggi = 152\n",
    "print (\"nama say:\", nama)\n",
    "print (\"umur:\", umur)\n",
    "print (\"tinggi:\", tinggi)"
   ]
  },
  {
   "cell_type": "code",
   "execution_count": 11,
   "id": "b5f88344-40b9-49b8-abd7-a03ce2d5b55d",
   "metadata": {},
   "outputs": [
    {
     "name": "stdout",
     "output_type": "stream",
     "text": [
      "14\n",
      "6\n",
      "40\n",
      "2.5\n",
      "2\n"
     ]
    }
   ],
   "source": [
    "a = 10\n",
    "b = 4\n",
    "print ( a+b )\n",
    "print ( a-b )\n",
    "print ( a*b )\n",
    "print ( a/b )\n",
    "print ( a%b )"
   ]
  },
  {
   "cell_type": "code",
   "execution_count": 13,
   "id": "d941e1c1-a439-48dd-a3e4-be728f708d11",
   "metadata": {},
   "outputs": [
    {
     "name": "stdout",
     "output_type": "stream",
     "text": [
      "<class 'str'>\n",
      "<class 'int'>\n",
      "<class 'int'>\n"
     ]
    }
   ],
   "source": [
    "nama = \"Yusri\"\n",
    "umur = 18\n",
    "tinggi = 152\n",
    "print (type(nama))\n",
    "print (type(umur))\n",
    "print (type(tinggi))"
   ]
  },
  {
   "cell_type": "code",
   "execution_count": 24,
   "id": "2c483090-6dac-470d-8c99-9fc0f7e96da9",
   "metadata": {},
   "outputs": [
    {
     "name": "stdin",
     "output_type": "stream",
     "text": [
      "masukan angka pertama :  2.8\n",
      "masukan angka kedua :  4.5\n"
     ]
    },
    {
     "name": "stdout",
     "output_type": "stream",
     "text": [
      "hasil penjumlahan:  7.3\n"
     ]
    }
   ],
   "source": [
    "# program penjumlahan\n",
    "angka1 = input(\"masukan angka pertama : \")\n",
    "angka2 = input(\"masukan angka kedua : \")\n",
    "jumlah = float(angka1) + float(angka2)\n",
    "print(\"hasil penjumlahan: \", jumlah)"
   ]
  },
  {
   "cell_type": "code",
   "execution_count": 26,
   "id": "28a78646-fce0-49d0-ba31-09cf141e7509",
   "metadata": {},
   "outputs": [
    {
     "name": "stdout",
     "output_type": "stream",
     "text": [
      "x lebih dari 80\n"
     ]
    }
   ],
   "source": [
    "#blok kode yang dijalankan jika kondisi bernilai true\n",
    "x = 80\n",
    "if x >=80:\n",
    "    print(\"x lebih dari 80\")"
   ]
  },
  {
   "cell_type": "code",
   "execution_count": 27,
   "id": "e5d56193-795c-433a-b045-03146d3b67ca",
   "metadata": {},
   "outputs": [
    {
     "name": "stdout",
     "output_type": "stream",
     "text": [
      "anda sudah dewasa\n"
     ]
    }
   ],
   "source": [
    "umur = 18\n",
    "if umur >=17:\n",
    "    print(\"anda sudah dewasa\")\n",
    "else:\n",
    "    print(\"anda belum dewasa\")"
   ]
  },
  {
   "cell_type": "code",
   "execution_count": 29,
   "id": "769a7922-e052-4e51-8531-e0196920a510",
   "metadata": {},
   "outputs": [
    {
     "name": "stdout",
     "output_type": "stream",
     "text": [
      "BELAJAR DONGO!\n"
     ]
    }
   ],
   "source": [
    "#contoh sederhana percabangan\n",
    "nilai = 40\n",
    "\n",
    "if nilai >=90:\n",
    "    print(\"Nilai A\")\n",
    "elif nilai >=80:\n",
    "    print(\"Nilai B\")\n",
    "elif nilai >=70:\n",
    "    print(\"Nilai C\")\n",
    "elif nilai >=60:\n",
    "    print(\"Nilai D\")\n",
    "else:\n",
    "    print(\"BELAJAR DONGO!\")\n",
    "    "
   ]
  },
  {
   "cell_type": "code",
   "execution_count": 31,
   "id": "8439e770-dff5-4ac9-a988-5cc7a30f0752",
   "metadata": {},
   "outputs": [
    {
     "name": "stdin",
     "output_type": "stream",
     "text": [
      "masukan angka ketiga :  4.6\n",
      "masukan angka keempat :  7.9\n"
     ]
    },
    {
     "name": "stdout",
     "output_type": "stream",
     "text": [
      "hasil penjumlahan:  12.5\n"
     ]
    }
   ],
   "source": [
    "# program penjumlahan\n",
    "angka3 = input(\"masukan angka ketiga : \")\n",
    "angka4 = input(\"masukan angka keempat : \")\n",
    "jumlah = float(angka3) + float(angka4)\n",
    "print(\"hasil penjumlahan: \", jumlah)"
   ]
  },
  {
   "cell_type": "code",
   "execution_count": 33,
   "id": "5d90bd6c-673f-42e7-b472-a75db28871cd",
   "metadata": {},
   "outputs": [
    {
     "name": "stdout",
     "output_type": "stream",
     "text": [
      "tidak bawa payung\n"
     ]
    }
   ],
   "source": [
    "#contoh menggunakan boolean\n",
    "apakah_hujan = False\n",
    "\n",
    "if apakah_hujan:\n",
    "    print(\"bawa payung\")\n",
    "else:\n",
    "    print(\"tidak bawa payung\")"
   ]
  },
  {
   "cell_type": "code",
   "execution_count": 34,
   "id": "9829b87a-1b53-4a26-b6b7-a299f8a5cf0c",
   "metadata": {},
   "outputs": [
    {
     "name": "stdout",
     "output_type": "stream",
     "text": [
      "kamu memenuhi syarat mendaftar\n"
     ]
    }
   ],
   "source": [
    "#menggunakan operator logika\n",
    "umur = 18\n",
    "tinggi = 155\n",
    "\n",
    "if umur > 17 and tinggi > 150:\n",
    "    print(\"kamu memenuhi syarat mendaftar\")\n",
    "else:\n",
    "    print(\"kamu tidak memenuhi syarat mendaftar\")"
   ]
  },
  {
   "cell_type": "code",
   "execution_count": 43,
   "id": "140cde59-024e-4ae2-a049-1ad09cb6b1d6",
   "metadata": {},
   "outputs": [
    {
     "name": "stdin",
     "output_type": "stream",
     "text": [
      "masukan password:  220506\n"
     ]
    },
    {
     "name": "stdout",
     "output_type": "stream",
     "text": [
      "password benar\n"
     ]
    }
   ],
   "source": [
    "password = input(\"masukan password: \")\n",
    "\n",
    "if password == \"220506\":\n",
    "    print(\"password benar\")\n",
    "else:\n",
    "    print(\"password salah!\")\n"
   ]
  },
  {
   "cell_type": "code",
   "execution_count": 38,
   "id": "e9321137-967b-40f9-8642-d25d533fc24b",
   "metadata": {},
   "outputs": [
    {
     "name": "stdin",
     "output_type": "stream",
     "text": [
      "masukan hari:  selasa\n"
     ]
    },
    {
     "name": "stdout",
     "output_type": "stream",
     "text": [
      "saatnya olahraga!\n"
     ]
    }
   ],
   "source": [
    "# percobaan dengan beberapa kondisi\n",
    "hari = input(\"masukan hari: \")\n",
    "\n",
    "if hari == \"senin\":\n",
    "    print(\"hari senin, saatnya bekerja!\")\n",
    "elif hari == \"selasa\":\n",
    "    print(\"saatnya olahraga!\")\n",
    "elif hari == \"minggu\":\n",
    "    print(\"saatnya istirahat\")\n",
    "else:\n",
    "    print(\"hari tidak dikenali\")"
   ]
  },
  {
   "cell_type": "code",
   "execution_count": 44,
   "id": "4a921930-49b3-46e9-bd47-3a33a83c61e8",
   "metadata": {},
   "outputs": [
    {
     "name": "stdin",
     "output_type": "stream",
     "text": [
      "masukan hari:  selasa\n"
     ]
    },
    {
     "name": "stdout",
     "output_type": "stream",
     "text": [
      "PTI dan Bahasa Inggris\n"
     ]
    }
   ],
   "source": [
    "#jadwal kuliah\n",
    "hari = input(\"masukan hari: \")\n",
    "\n",
    "if hari == \"senin\":\n",
    "    print(\"pengantar manajemen dan ALEL\")\n",
    "elif hari == \"selasa\":\n",
    "    print(\"PTI dan Bahasa Inggris\")\n",
    "elif hari == \"rabu\":\n",
    "    print(\"KOMMAS\")\n",
    "else:\n",
    "    print(\"tidur\")"
   ]
  },
  {
   "cell_type": "code",
   "execution_count": null,
   "id": "950adb20-34a9-4af5-9fb7-8f8996df7094",
   "metadata": {},
   "outputs": [],
   "source": []
  }
 ],
 "metadata": {
  "kernelspec": {
   "display_name": "Python 3 (ipykernel)",
   "language": "python",
   "name": "python3"
  },
  "language_info": {
   "codemirror_mode": {
    "name": "ipython",
    "version": 3
   },
   "file_extension": ".py",
   "mimetype": "text/x-python",
   "name": "python",
   "nbconvert_exporter": "python",
   "pygments_lexer": "ipython3",
   "version": "3.12.6"
  }
 },
 "nbformat": 4,
 "nbformat_minor": 5
}
