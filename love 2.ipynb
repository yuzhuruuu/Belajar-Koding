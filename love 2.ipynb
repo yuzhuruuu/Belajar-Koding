{
 "cells": [
  {
   "cell_type": "code",
   "execution_count": 1,
   "id": "34db1511-b6bf-4af4-86ab-6d7d622ccaeb",
   "metadata": {},
   "outputs": [],
   "source": [
    "import turtle\n",
    "import time\n",
    "\n",
    "screen = turtle.Screen()\n",
    "screen.setup(800, 800)\n",
    "screen.bgcolor(\"pink\")\n",
    "\n",
    "t = turtle.Turtle()\n",
    "t.hideturtle()\n",
    "t.speed(3)\n",
    "\n",
    "def draw_heart(x, y, size, color, thickness):\n",
    "    t.penup()\n",
    "    t.goto(x, y)\n",
    "    t.color(color)\n",
    "    t.pensize(thickness)\n",
    "    t.pendown()\n",
    "    t.begin_fill()\n",
    "    t.left(140)\n",
    "    t.forward(size)\n",
    "    \n",
    "    for _ in range(200):\n",
    "        t.right(1)\n",
    "        t.forward(size * 0.009)\n",
    "    \n",
    "    t.left(120)\n",
    "    \n",
    "    for _ in range(200):\n",
    "        t.right(1)\n",
    "        t.forward(size * 0.009)\n",
    "    \n",
    "    t.forward(size)\n",
    "    t.end_fill()\n",
    "    t.setheading(0)\n",
    "\n",
    "hearts = [\n",
    "    (0, -150, 300, \"#FF9999\", 5),\n",
    "    (0, -135, 270, \"#FFCCCC\", 5),\n",
    "    (0, -120, 240, \"#FFE6E6\", 5),\n",
    "    (0, -105, 210, \"#FFCCCC\", 5),\n",
    "    (0, -90, 180, \"#FF99CC\", 5),\n",
    "    (0, -75, 150, \"#FFCCFF\", 5),\n",
    "    (0, -50, 100, \"#FF6666\", 5)\n",
    "]\n",
    "\n",
    "for heart in hearts:\n",
    "    draw_heart(*heart)\n",
    "    time.sleep(0.5)\n",
    "\n",
    "screen.mainloop()"
   ]
  },
  {
   "cell_type": "code",
   "execution_count": null,
   "id": "537a3d33-cb25-46f0-a881-299361575e6f",
   "metadata": {},
   "outputs": [],
   "source": []
  }
 ],
 "metadata": {
  "kernelspec": {
   "display_name": "Python 3 (ipykernel)",
   "language": "python",
   "name": "python3"
  },
  "language_info": {
   "codemirror_mode": {
    "name": "ipython",
    "version": 3
   },
   "file_extension": ".py",
   "mimetype": "text/x-python",
   "name": "python",
   "nbconvert_exporter": "python",
   "pygments_lexer": "ipython3",
   "version": "3.12.6"
  }
 },
 "nbformat": 4,
 "nbformat_minor": 5
}
