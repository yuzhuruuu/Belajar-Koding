{
 "cells": [
  {
   "cell_type": "code",
   "execution_count": 1,
   "id": "2c9ce675-76b2-4644-88c6-84b3f8b650f6",
   "metadata": {},
   "outputs": [
    {
     "name": "stdout",
     "output_type": "stream",
     "text": [
      "\n",
      "And I don't know what I'm crying for\n",
      "I don't think I could love you more\n",
      "It might not be long, but baby, I\n",
      "I'll love you 'til the day that I die\n",
      "Til the day that I die\n",
      "Til the light leaves my eyes\n",
      "Til the day that I die\n",
      "\n"
     ]
    }
   ],
   "source": [
    "import time\n",
    "from threading import Thread, Lock\n",
    "import sys\n",
    "\n",
    "lock = Lock()\n",
    "\n",
    "def animate_text(text, delay=0.1):\n",
    "    with lock:\n",
    "        for char in text:\n",
    "            sys.stdout.write(char)\n",
    "            sys.stdout.flush()\n",
    "            time.sleep(delay)\n",
    "        print()\n",
    "\n",
    "def sing_lyric(lyric, delay, speed):\n",
    "    time.sleep(delay)\n",
    "    animate_text(lyric, speed)\n",
    "\n",
    "def sing_song():\n",
    "    lyrics = [\n",
    "        (\"\\n\"\"And I don't know what I'm crying for\", 0.11),\n",
    "        (\"I don't think I could love you more\", 0.11),\n",
    "        (\"It might not be long, but baby, I\", 0.11),\n",
    "        (\"I'll love you 'til the day that I die\", 0.08),\n",
    "        (\"Til the day that I die\", 0.08),\n",
    "        (\"Til the light leaves my eyes\", 0.08),\n",
    "        (\"Til the day that I die\"\"\\n\", 0.08)\n",
    "    ]\n",
    "    delays = [0.3, 5.0, 9.6, 15.6, 21.3, 25.6, 30.6]\n",
    "    \n",
    "    threads = []\n",
    "    for i in range(len(lyrics)):\n",
    "        lyric, speed = lyrics[i]\n",
    "        t = Thread(target=sing_lyric, args=(lyric, delays[i], speed))\n",
    "        threads.append(t)\n",
    "        t.start()\n",
    "    \n",
    "    for thread in threads:\n",
    "        thread.join()\n",
    "\n",
    "if __name__ == \"__main__\":\n",
    "    sing_song()"
   ]
  },
  {
   "cell_type": "code",
   "execution_count": null,
   "id": "9ce7d23f-2a7e-499d-95ed-86d67f79c1c5",
   "metadata": {},
   "outputs": [],
   "source": []
  }
 ],
 "metadata": {
  "kernelspec": {
   "display_name": "Python 3 (ipykernel)",
   "language": "python",
   "name": "python3"
  },
  "language_info": {
   "codemirror_mode": {
    "name": "ipython",
    "version": 3
   },
   "file_extension": ".py",
   "mimetype": "text/x-python",
   "name": "python",
   "nbconvert_exporter": "python",
   "pygments_lexer": "ipython3",
   "version": "3.12.6"
  }
 },
 "nbformat": 4,
 "nbformat_minor": 5
}
