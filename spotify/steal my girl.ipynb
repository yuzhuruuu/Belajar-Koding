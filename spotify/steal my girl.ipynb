{
 "cells": [
  {
   "cell_type": "code",
   "execution_count": 1,
   "id": "0be29957-c45d-4519-944c-dfd00f2a10a0",
   "metadata": {},
   "outputs": [
    {
     "name": "stdout",
     "output_type": "stream",
     "text": [
      "\n",
      "She's been my queen\n",
      "Since we were sixteen\n",
      "We want the same things\n",
      "We dream the same dreams\n",
      "Alright\n",
      "Alright\n",
      "\n",
      "I got it all\n",
      "Cause she is the one\n",
      "Her mum calls me love\n",
      "Her dad calls me son\n",
      "Alright\n",
      "Alright\n"
     ]
    }
   ],
   "source": [
    "import time\n",
    "from threading import Thread, Lock\n",
    "import sys\n",
    "\n",
    "lock = Lock()\n",
    "\n",
    "def animate_text(text, delay=0.1):\n",
    "    with lock:\n",
    "        for char in text:\n",
    "            sys.stdout.write(char)\n",
    "            sys.stdout.flush()\n",
    "            time.sleep(delay)\n",
    "        print()\n",
    "\n",
    "def sing_lyric(lyric, delay, speed):\n",
    "    time.sleep(delay)\n",
    "    animate_text(lyric, speed)\n",
    "\n",
    "def sing_song():\n",
    "    lyrics = [\n",
    "        (\"\\n\"\"She's been my queen\", 0.07),\n",
    "        (\"Since we were sixteen\", 0.07),\n",
    "        (\"We want the same things\", 0.07),\n",
    "        (\"We dream the same dreams\", 0.07),\n",
    "        (\"Alright\", 0.07),\n",
    "        (\"Alright\", 0.07),\n",
    "        (\"\\n\"\"I got it all\", 0.07),\n",
    "        (\"Cause she is the one\", 0.07),\n",
    "        (\"Her mum calls me love\", 0.07),\n",
    "        (\"Her dad calls me son\", 0.07),\n",
    "        (\"Alright\", 0.07),\n",
    "        (\"Alright\", 0.07),\n",
    "    ]\n",
    "    delays = [0.3, 1.7, 3.0, 4.5, 6.0, 9.5, 12.9, 13.9, 15.5, 17.0, 18.5, 22.0]\n",
    "    \n",
    "    threads = []\n",
    "    for i in range(len(lyrics)):\n",
    "        lyric, speed = lyrics[i]\n",
    "        t = Thread(target=sing_lyric, args=(lyric, delays[i], speed))\n",
    "        threads.append(t)\n",
    "        t.start()\n",
    "    \n",
    "    for thread in threads:\n",
    "        thread.join()\n",
    "\n",
    "if __name__ == \"__main__\":\n",
    "    sing_song()"
   ]
  },
  {
   "cell_type": "code",
   "execution_count": null,
   "id": "3b444171-3cb3-403b-8131-ea68e5be2e9a",
   "metadata": {},
   "outputs": [],
   "source": []
  }
 ],
 "metadata": {
  "kernelspec": {
   "display_name": "Python 3 (ipykernel)",
   "language": "python",
   "name": "python3"
  },
  "language_info": {
   "codemirror_mode": {
    "name": "ipython",
    "version": 3
   },
   "file_extension": ".py",
   "mimetype": "text/x-python",
   "name": "python",
   "nbconvert_exporter": "python",
   "pygments_lexer": "ipython3",
   "version": "3.12.6"
  }
 },
 "nbformat": 4,
 "nbformat_minor": 5
}
