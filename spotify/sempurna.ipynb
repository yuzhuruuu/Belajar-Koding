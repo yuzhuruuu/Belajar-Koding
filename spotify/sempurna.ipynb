{
 "cells": [
  {
   "cell_type": "code",
   "execution_count": 1,
   "id": "b3efa7de-2902-4d93-aecb-726fc275bbf5",
   "metadata": {
    "scrolled": true
   },
   "outputs": [
    {
     "name": "stdout",
     "output_type": "stream",
     "text": [
      "Janganlah kau tinggalkan diri ku\n",
      "Tak kan mampu menghadapi semua\n",
      "Hanya bersamamu ku akan bisa\n",
      "Kau adalah darah ku\n",
      "Kau adalah jantung ku\n",
      "Kau adalah hidup ku lengkapi diri ku\n",
      "Oh sayangku kau begitu\n",
      "Sempurnaaaaaaaaaaaaaaaaa\n"
     ]
    }
   ],
   "source": [
    "import time\n",
    "from threading import Thread, Lock\n",
    "import sys\n",
    "\n",
    "lock = Lock()\n",
    "\n",
    "def animate_text(text, delay=0.1):\n",
    "    with lock:\n",
    "        for char in text:\n",
    "            sys.stdout.write(char)\n",
    "            sys.stdout.flush()\n",
    "            time.sleep(delay)\n",
    "        print()\n",
    "\n",
    "def sing_lyric(lyric, delay, speed):\n",
    "    time.sleep(delay)\n",
    "    animate_text(lyric, speed)\n",
    "\n",
    "def sing_song():\n",
    "    lyrics = [\n",
    "        (\"Janganlah kau tinggalkan diri ku\", 0.1),\n",
    "        (\"Tak kan mampu menghadapi semua\", 0.12),\n",
    "        (\"Hanya bersamamu ku akan bisa\", 0.11),\n",
    "        (\"Kau adalah darah ku\", 0.10),\n",
    "        (\"Kau adalah jantung ku\", 0.10),\n",
    "        (\"Kau adalah hidup ku lengkapi diri ku\", 0.10),\n",
    "        (\"Oh sayangku kau begitu\", 0.1),\n",
    "        (\"Sempurnaaaaaaaaaaaaaaaaa\", 0.1)\n",
    "    ]\n",
    "    delays = [0.3, 4.5, 9.3, 14.1, 18.8, 23.0, 28.0, 34.5]\n",
    "    \n",
    "    threads = []\n",
    "    for i in range(len(lyrics)):\n",
    "        lyric, speed = lyrics[i]\n",
    "        t = Thread(target=sing_lyric, args=(lyric, delays[i], speed))\n",
    "        threads.append(t)\n",
    "        t.start()\n",
    "    \n",
    "    for thread in threads:\n",
    "        thread.join()\n",
    "\n",
    "if __name__ == \"__main__\":\n",
    "    sing_song()"
   ]
  },
  {
   "cell_type": "code",
   "execution_count": null,
   "id": "f877ac61-e625-4854-afcf-7fd126939de7",
   "metadata": {},
   "outputs": [],
   "source": []
  }
 ],
 "metadata": {
  "kernelspec": {
   "display_name": "Python 3 (ipykernel)",
   "language": "python",
   "name": "python3"
  },
  "language_info": {
   "codemirror_mode": {
    "name": "ipython",
    "version": 3
   },
   "file_extension": ".py",
   "mimetype": "text/x-python",
   "name": "python",
   "nbconvert_exporter": "python",
   "pygments_lexer": "ipython3",
   "version": "3.12.6"
  }
 },
 "nbformat": 4,
 "nbformat_minor": 5
}
