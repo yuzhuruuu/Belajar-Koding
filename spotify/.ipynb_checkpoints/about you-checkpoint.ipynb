{
 "cells": [
  {
   "cell_type": "code",
   "execution_count": 1,
   "id": "31d89506-b94d-4266-8150-d1ab0e3166c1",
   "metadata": {},
   "outputs": [
    {
     "name": "stdout",
     "output_type": "stream",
     "text": [
      "Do you think I have forgotten?\n",
      "Do you think I have forgotten?\n",
      "Do you think I have forgotten\n",
      "about you?\n",
      "There was something bout you that now I cant remember\n",
      "Its the same damn thing that made my heart surrender\n",
      "And I miss you on a train, I miss you in the morning\n",
      "I never know what to think about\n",
      "I think about youuuuuuuuuuuuuuuuuuuuuuuuuuu\n"
     ]
    }
   ],
   "source": [
    "#lirik lagu\n",
    "\n",
    "import time\n",
    "from threading import Thread, Lock\n",
    "import sys\n",
    "\n",
    "lock = Lock()\n",
    "\n",
    "def animate_text(text, delay=0.1):\n",
    "    with lock:\n",
    "        for char in text:\n",
    "            sys.stdout.write(char)\n",
    "            sys.stdout.flush()\n",
    "            time.sleep(delay)\n",
    "        print()\n",
    "\n",
    "def sing_lyric(lyric, delay, speed):\n",
    "    time.sleep(delay)\n",
    "    animate_text(lyric, speed)\n",
    "\n",
    "def sing_song():\n",
    "    lyrics = [\n",
    "        (\"Do you think I have forgotten?\", 0.1),\n",
    "        (\"Do you think I have forgotten?\", 0.1),\n",
    "        (\"Do you think I have forgotten\", 0.1),\n",
    "        (\"about you?\", 0.2),\n",
    "        (\"There was something bout you that now I cant remember\", 0.08),\n",
    "        (\"Its the same damn thing that made my heart surrender\", 0.1),\n",
    "        (\"And I miss you on a train, I miss you in the morning\", 0.1),\n",
    "        (\"I never know what to think about\", 0.1),\n",
    "        (\"I think about youuuuuuuuuuuuuuuuuuuuuuuuuuu\", 0.1)\n",
    "    ]\n",
    "    delays = [0.3, 5.0, 10.0, 15.0, 20.3, 25.0, 27.0, 30.2, 33.3]\n",
    "    \n",
    "    threads = []\n",
    "    for i in range(len(lyrics)):\n",
    "        lyric, speed = lyrics[i]\n",
    "        t = Thread(target=sing_lyric, args=(lyric, delays[i], speed))\n",
    "        threads.append(t)\n",
    "        t.start()\n",
    "    \n",
    "    for thread in threads:\n",
    "        thread.join()\n",
    "\n",
    "if __name__ == \"__main__\":\n",
    "    sing_song()"
   ]
  },
  {
   "cell_type": "code",
   "execution_count": null,
   "id": "431fa850-b22a-45cd-b942-011510ac1129",
   "metadata": {},
   "outputs": [],
   "source": []
  }
 ],
 "metadata": {
  "kernelspec": {
   "display_name": "Python 3 (ipykernel)",
   "language": "python",
   "name": "python3"
  },
  "language_info": {
   "codemirror_mode": {
    "name": "ipython",
    "version": 3
   },
   "file_extension": ".py",
   "mimetype": "text/x-python",
   "name": "python",
   "nbconvert_exporter": "python",
   "pygments_lexer": "ipython3",
   "version": "3.12.6"
  }
 },
 "nbformat": 4,
 "nbformat_minor": 5
}
