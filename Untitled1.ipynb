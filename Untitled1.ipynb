{
 "cells": [
  {
   "cell_type": "code",
   "execution_count": 2,
   "id": "a0f0bc75-f442-459c-8f30-8ed837875a35",
   "metadata": {},
   "outputs": [
    {
     "name": "stdin",
     "output_type": "stream",
     "text": [
      "Masukan harga barang yang dibeli : 60000\n"
     ]
    },
    {
     "name": "stdout",
     "output_type": "stream",
     "text": [
      "PPN: 7500.0\n",
      "Total harga setelah PPN: 67500.0\n"
     ]
    }
   ],
   "source": [
    "# menghitung pajak pertambahan nilai 12.5% dari harga barang \n",
    "\n",
    "harga = float(input(\"Masukan harga barang yang dibeli :\"))\n",
    "pajak = 0.125 * harga \n",
    "total = harga + pajak\n",
    "\n",
    "print(f\"PPN: {pajak}\")\n",
    "print(f\"Total harga setelah PPN: {total}\")"
   ]
  },
  {
   "cell_type": "code",
   "execution_count": 3,
   "id": "baf7779a-91bf-4ee6-aa11-8bccde412df2",
   "metadata": {},
   "outputs": [
    {
     "name": "stdin",
     "output_type": "stream",
     "text": [
      "masukan panjang alas segitiga : 20\n",
      "masukan tinggi segitiga : 30\n"
     ]
    },
    {
     "name": "stdout",
     "output_type": "stream",
     "text": [
      "luas segitiga: 300.0\n"
     ]
    }
   ],
   "source": [
    "# menghitung luas segitiga\n",
    "\n",
    "alas = float(input(\"masukan panjang alas segitiga :\"))\n",
    "tinggi = int(input(\"masukan tinggi segitiga :\"))\n",
    "luas = 0.5 * alas * tinggi\n",
    "\n",
    "print(f\"luas segitiga: {luas}\")"
   ]
  },
  {
   "cell_type": "code",
   "execution_count": 6,
   "id": "15ca9c06-a51b-4fcc-a0b2-367a54017864",
   "metadata": {},
   "outputs": [
    {
     "name": "stdin",
     "output_type": "stream",
     "text": [
      "masukan nama salesman : yusri\n",
      "masukan harga : 50000\n",
      "jumlah penjualan : 200\n"
     ]
    },
    {
     "name": "stdout",
     "output_type": "stream",
     "text": [
      "komisi: 1000000.0\n"
     ]
    }
   ],
   "source": [
    "# menghitung komisi yang diterima salesman\n",
    "\n",
    "nama = str(input(\"masukan nama salesman :\"))\n",
    "harga = int(input(\"masukan harga :\"))\n",
    "jumlah = int(input(\"jumlah penjualan :\"))\n",
    "komisi = 0.1 * jumlah * harga\n",
    "\n",
    "print(f\"komisi: {komisi}\")"
   ]
  },
  {
   "cell_type": "code",
   "execution_count": null,
   "id": "6cf10406-103f-4ed1-8778-f76e3a2a9bef",
   "metadata": {},
   "outputs": [],
   "source": []
  }
 ],
 "metadata": {
  "kernelspec": {
   "display_name": "Python 3 (ipykernel)",
   "language": "python",
   "name": "python3"
  },
  "language_info": {
   "codemirror_mode": {
    "name": "ipython",
    "version": 3
   },
   "file_extension": ".py",
   "mimetype": "text/x-python",
   "name": "python",
   "nbconvert_exporter": "python",
   "pygments_lexer": "ipython3",
   "version": "3.12.6"
  }
 },
 "nbformat": 4,
 "nbformat_minor": 5
}
